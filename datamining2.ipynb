{
  "nbformat": 4,
  "nbformat_minor": 0,
  "metadata": {
    "colab": {
      "provenance": [],
      "authorship_tag": "ABX9TyN+VLd4cmtsuJLU3djA5n1T"
    },
    "kernelspec": {
      "name": "python3",
      "display_name": "Python 3"
    },
    "language_info": {
      "name": "python"
    }
  },
  "cells": [
    {
      "cell_type": "markdown",
      "source": [
        "# **PENELITIAN STATISTIK PENGARUH KESEHATAN MENTAL PADA SISWA**"
      ],
      "metadata": {
        "id": "gPC9vy7CcUys"
      }
    },
    {
      "cell_type": "markdown",
      "source": [
        "# **Import Library**"
      ],
      "metadata": {
        "id": "JsdRtVahE7TW"
      }
    },
    {
      "cell_type": "code",
      "source": [
        "import seaborn as sns\n",
        "import matplotlib.pyplot as plt\n",
        "import pandas as pd"
      ],
      "metadata": {
        "id": "hRPhM8LEFCl0"
      },
      "execution_count": null,
      "outputs": []
    },
    {
      "cell_type": "markdown",
      "source": [
        "#**Business Understanding**"
      ],
      "metadata": {
        "id": "esYK3Uwdiv3j"
      }
    },
    {
      "cell_type": "markdown",
      "source": [
        "##**Business Objective**\n",
        "\n",
        "Analisis ini bertujuan untuk melihat pola dan korelasi yang dapat menjadi masukan bagi intervensi yang ditargetkan dan sistem dukungan. Selain itu, memahami dan memberikan pemahaman bagaimana usia, status, nilai akademik, dan status depresi saling terkait memberikan perspektiif holistik, menumbuhkan apresiasi yang lebih dalam terhadap tantangan dan keberhasilan yang mungkin dihadapi siswa selama perjalanan pendidikan mereka."
      ],
      "metadata": {
        "id": "QLqd63IEFiNU"
      }
    },
    {
      "cell_type": "markdown",
      "source": [
        "##**Assess Situation**\n",
        "\n",
        "Situasi bisnis yang mendasari analisis ini adalah kurangnya kesadaran pada kesehatan mental yang berimbas minimnya rasa kepedulian serta apresiasi kepada para siswa yang tengah menghadapi tantangan akademik."
      ],
      "metadata": {
        "id": "9dhGQGjaFtWl"
      }
    },
    {
      "cell_type": "markdown",
      "source": [
        "##**Data Mining Goals**\n",
        "\n",
        "Tujuan dari menavigasi kumpulan data ini adalah untuk menyumbangkan wawasan bermakna yang diiharapkan akan meningkatkan pemahaman kita tentang dinamika siswa namun juga meletakkan dasar untuk mengembangkan strategi yang disesuaikan untuk mendukung kesejahteraan siswa dan keberhasilan akademik."
      ],
      "metadata": {
        "id": "S4JugDNmFznQ"
      }
    },
    {
      "cell_type": "markdown",
      "source": [
        "##**Project Plan**\n",
        "\n",
        "Dengan mengumpulkan data selanjutnya, data-data diidentifikasi dan dieksplorasi untuk mengindentifikasi korelasi dan hubungan antar variabel. Selain itu, data akan dinilai dan masalah data akan diidentifikasi agar dapat diatasi dalam tahapan berikutnya."
      ],
      "metadata": {
        "id": "52-pX1K_HDw4"
      }
    },
    {
      "cell_type": "markdown",
      "source": [
        "#**DATA UNDERSTANDING**\n"
      ],
      "metadata": {
        "id": "y8lTrBXpHQ37"
      }
    },
    {
      "cell_type": "markdown",
      "source": [
        "##**Collect Initial Data**\n",
        "\n",
        "Sumber data yang digunakan diambil dari website Kaggle. Kaggle merupakan platform yang menyediakan berbagai dataset untuk keperluan kompetisi data science, proyek-proyek belajar, dan penelitian. data-data dari website Kaggle biasanya berasal dari berbagai sumber, termasuk institusi akademik, perusahaan, organisasi non-profit, dan individu yang menyumbangkan dataset mereka.\n",
        "\n",
        "berikut link dataset yang digunakan pada project kali ini : https://www.kaggle.com/datasets/shariful07/student-mental-health"
      ],
      "metadata": {
        "id": "ugxmXLrbJyxO"
      }
    },
    {
      "cell_type": "code",
      "source": [
        "df = pd.read_csv('StudentMentalhealth.csv')\n",
        "df.head()"
      ],
      "metadata": {
        "colab": {
          "base_uri": "https://localhost:8080/",
          "height": 382
        },
        "id": "laAsuZ0HJ9y5",
        "outputId": "584735e0-d742-474e-8fc7-b9b50f1d0f08"
      },
      "execution_count": null,
      "outputs": [
        {
          "output_type": "execute_result",
          "data": {
            "text/plain": [
              "        Timestamp Choose your gender   Age What is your course?  \\\n",
              "0  8/7/2020 12:02             Female  18.0          Engineering   \n",
              "1  8/7/2020 12:04               Male  21.0    Islamic education   \n",
              "2  8/7/2020 12:05               Male  19.0                  BIT   \n",
              "3  8/7/2020 12:06             Female  22.0                 Laws   \n",
              "4  8/7/2020 12:13               Male  23.0         Mathemathics   \n",
              "\n",
              "  Your current year of Study What is your CGPA? Marital status  \\\n",
              "0                     year 1        3.00 - 3.49             No   \n",
              "1                     year 2        3.00 - 3.49             No   \n",
              "2                     Year 1        3.00 - 3.49             No   \n",
              "3                     year 3        3.00 - 3.49            Yes   \n",
              "4                     year 4        3.00 - 3.49             No   \n",
              "\n",
              "  Do you have Depression? Do you have Anxiety? Do you have Panic attack?  \\\n",
              "0                     Yes                   No                       Yes   \n",
              "1                      No                  Yes                        No   \n",
              "2                     Yes                  Yes                       Yes   \n",
              "3                     Yes                   No                        No   \n",
              "4                      No                   No                        No   \n",
              "\n",
              "  Did you seek any specialist for a treatment?  \n",
              "0                                           No  \n",
              "1                                           No  \n",
              "2                                           No  \n",
              "3                                           No  \n",
              "4                                           No  "
            ],
            "text/html": [
              "\n",
              "  <div id=\"df-1bf5c38d-6916-49cf-b575-517a641da737\" class=\"colab-df-container\">\n",
              "    <div>\n",
              "<style scoped>\n",
              "    .dataframe tbody tr th:only-of-type {\n",
              "        vertical-align: middle;\n",
              "    }\n",
              "\n",
              "    .dataframe tbody tr th {\n",
              "        vertical-align: top;\n",
              "    }\n",
              "\n",
              "    .dataframe thead th {\n",
              "        text-align: right;\n",
              "    }\n",
              "</style>\n",
              "<table border=\"1\" class=\"dataframe\">\n",
              "  <thead>\n",
              "    <tr style=\"text-align: right;\">\n",
              "      <th></th>\n",
              "      <th>Timestamp</th>\n",
              "      <th>Choose your gender</th>\n",
              "      <th>Age</th>\n",
              "      <th>What is your course?</th>\n",
              "      <th>Your current year of Study</th>\n",
              "      <th>What is your CGPA?</th>\n",
              "      <th>Marital status</th>\n",
              "      <th>Do you have Depression?</th>\n",
              "      <th>Do you have Anxiety?</th>\n",
              "      <th>Do you have Panic attack?</th>\n",
              "      <th>Did you seek any specialist for a treatment?</th>\n",
              "    </tr>\n",
              "  </thead>\n",
              "  <tbody>\n",
              "    <tr>\n",
              "      <th>0</th>\n",
              "      <td>8/7/2020 12:02</td>\n",
              "      <td>Female</td>\n",
              "      <td>18.0</td>\n",
              "      <td>Engineering</td>\n",
              "      <td>year 1</td>\n",
              "      <td>3.00 - 3.49</td>\n",
              "      <td>No</td>\n",
              "      <td>Yes</td>\n",
              "      <td>No</td>\n",
              "      <td>Yes</td>\n",
              "      <td>No</td>\n",
              "    </tr>\n",
              "    <tr>\n",
              "      <th>1</th>\n",
              "      <td>8/7/2020 12:04</td>\n",
              "      <td>Male</td>\n",
              "      <td>21.0</td>\n",
              "      <td>Islamic education</td>\n",
              "      <td>year 2</td>\n",
              "      <td>3.00 - 3.49</td>\n",
              "      <td>No</td>\n",
              "      <td>No</td>\n",
              "      <td>Yes</td>\n",
              "      <td>No</td>\n",
              "      <td>No</td>\n",
              "    </tr>\n",
              "    <tr>\n",
              "      <th>2</th>\n",
              "      <td>8/7/2020 12:05</td>\n",
              "      <td>Male</td>\n",
              "      <td>19.0</td>\n",
              "      <td>BIT</td>\n",
              "      <td>Year 1</td>\n",
              "      <td>3.00 - 3.49</td>\n",
              "      <td>No</td>\n",
              "      <td>Yes</td>\n",
              "      <td>Yes</td>\n",
              "      <td>Yes</td>\n",
              "      <td>No</td>\n",
              "    </tr>\n",
              "    <tr>\n",
              "      <th>3</th>\n",
              "      <td>8/7/2020 12:06</td>\n",
              "      <td>Female</td>\n",
              "      <td>22.0</td>\n",
              "      <td>Laws</td>\n",
              "      <td>year 3</td>\n",
              "      <td>3.00 - 3.49</td>\n",
              "      <td>Yes</td>\n",
              "      <td>Yes</td>\n",
              "      <td>No</td>\n",
              "      <td>No</td>\n",
              "      <td>No</td>\n",
              "    </tr>\n",
              "    <tr>\n",
              "      <th>4</th>\n",
              "      <td>8/7/2020 12:13</td>\n",
              "      <td>Male</td>\n",
              "      <td>23.0</td>\n",
              "      <td>Mathemathics</td>\n",
              "      <td>year 4</td>\n",
              "      <td>3.00 - 3.49</td>\n",
              "      <td>No</td>\n",
              "      <td>No</td>\n",
              "      <td>No</td>\n",
              "      <td>No</td>\n",
              "      <td>No</td>\n",
              "    </tr>\n",
              "  </tbody>\n",
              "</table>\n",
              "</div>\n",
              "    <div class=\"colab-df-buttons\">\n",
              "\n",
              "  <div class=\"colab-df-container\">\n",
              "    <button class=\"colab-df-convert\" onclick=\"convertToInteractive('df-1bf5c38d-6916-49cf-b575-517a641da737')\"\n",
              "            title=\"Convert this dataframe to an interactive table.\"\n",
              "            style=\"display:none;\">\n",
              "\n",
              "  <svg xmlns=\"http://www.w3.org/2000/svg\" height=\"24px\" viewBox=\"0 -960 960 960\">\n",
              "    <path d=\"M120-120v-720h720v720H120Zm60-500h600v-160H180v160Zm220 220h160v-160H400v160Zm0 220h160v-160H400v160ZM180-400h160v-160H180v160Zm440 0h160v-160H620v160ZM180-180h160v-160H180v160Zm440 0h160v-160H620v160Z\"/>\n",
              "  </svg>\n",
              "    </button>\n",
              "\n",
              "  <style>\n",
              "    .colab-df-container {\n",
              "      display:flex;\n",
              "      gap: 12px;\n",
              "    }\n",
              "\n",
              "    .colab-df-convert {\n",
              "      background-color: #E8F0FE;\n",
              "      border: none;\n",
              "      border-radius: 50%;\n",
              "      cursor: pointer;\n",
              "      display: none;\n",
              "      fill: #1967D2;\n",
              "      height: 32px;\n",
              "      padding: 0 0 0 0;\n",
              "      width: 32px;\n",
              "    }\n",
              "\n",
              "    .colab-df-convert:hover {\n",
              "      background-color: #E2EBFA;\n",
              "      box-shadow: 0px 1px 2px rgba(60, 64, 67, 0.3), 0px 1px 3px 1px rgba(60, 64, 67, 0.15);\n",
              "      fill: #174EA6;\n",
              "    }\n",
              "\n",
              "    .colab-df-buttons div {\n",
              "      margin-bottom: 4px;\n",
              "    }\n",
              "\n",
              "    [theme=dark] .colab-df-convert {\n",
              "      background-color: #3B4455;\n",
              "      fill: #D2E3FC;\n",
              "    }\n",
              "\n",
              "    [theme=dark] .colab-df-convert:hover {\n",
              "      background-color: #434B5C;\n",
              "      box-shadow: 0px 1px 3px 1px rgba(0, 0, 0, 0.15);\n",
              "      filter: drop-shadow(0px 1px 2px rgba(0, 0, 0, 0.3));\n",
              "      fill: #FFFFFF;\n",
              "    }\n",
              "  </style>\n",
              "\n",
              "    <script>\n",
              "      const buttonEl =\n",
              "        document.querySelector('#df-1bf5c38d-6916-49cf-b575-517a641da737 button.colab-df-convert');\n",
              "      buttonEl.style.display =\n",
              "        google.colab.kernel.accessAllowed ? 'block' : 'none';\n",
              "\n",
              "      async function convertToInteractive(key) {\n",
              "        const element = document.querySelector('#df-1bf5c38d-6916-49cf-b575-517a641da737');\n",
              "        const dataTable =\n",
              "          await google.colab.kernel.invokeFunction('convertToInteractive',\n",
              "                                                    [key], {});\n",
              "        if (!dataTable) return;\n",
              "\n",
              "        const docLinkHtml = 'Like what you see? Visit the ' +\n",
              "          '<a target=\"_blank\" href=https://colab.research.google.com/notebooks/data_table.ipynb>data table notebook</a>'\n",
              "          + ' to learn more about interactive tables.';\n",
              "        element.innerHTML = '';\n",
              "        dataTable['output_type'] = 'display_data';\n",
              "        await google.colab.output.renderOutput(dataTable, element);\n",
              "        const docLink = document.createElement('div');\n",
              "        docLink.innerHTML = docLinkHtml;\n",
              "        element.appendChild(docLink);\n",
              "      }\n",
              "    </script>\n",
              "  </div>\n",
              "\n",
              "\n",
              "<div id=\"df-291d8bec-4b91-4d76-9169-addbd2888ccc\">\n",
              "  <button class=\"colab-df-quickchart\" onclick=\"quickchart('df-291d8bec-4b91-4d76-9169-addbd2888ccc')\"\n",
              "            title=\"Suggest charts\"\n",
              "            style=\"display:none;\">\n",
              "\n",
              "<svg xmlns=\"http://www.w3.org/2000/svg\" height=\"24px\"viewBox=\"0 0 24 24\"\n",
              "     width=\"24px\">\n",
              "    <g>\n",
              "        <path d=\"M19 3H5c-1.1 0-2 .9-2 2v14c0 1.1.9 2 2 2h14c1.1 0 2-.9 2-2V5c0-1.1-.9-2-2-2zM9 17H7v-7h2v7zm4 0h-2V7h2v10zm4 0h-2v-4h2v4z\"/>\n",
              "    </g>\n",
              "</svg>\n",
              "  </button>\n",
              "\n",
              "<style>\n",
              "  .colab-df-quickchart {\n",
              "      --bg-color: #E8F0FE;\n",
              "      --fill-color: #1967D2;\n",
              "      --hover-bg-color: #E2EBFA;\n",
              "      --hover-fill-color: #174EA6;\n",
              "      --disabled-fill-color: #AAA;\n",
              "      --disabled-bg-color: #DDD;\n",
              "  }\n",
              "\n",
              "  [theme=dark] .colab-df-quickchart {\n",
              "      --bg-color: #3B4455;\n",
              "      --fill-color: #D2E3FC;\n",
              "      --hover-bg-color: #434B5C;\n",
              "      --hover-fill-color: #FFFFFF;\n",
              "      --disabled-bg-color: #3B4455;\n",
              "      --disabled-fill-color: #666;\n",
              "  }\n",
              "\n",
              "  .colab-df-quickchart {\n",
              "    background-color: var(--bg-color);\n",
              "    border: none;\n",
              "    border-radius: 50%;\n",
              "    cursor: pointer;\n",
              "    display: none;\n",
              "    fill: var(--fill-color);\n",
              "    height: 32px;\n",
              "    padding: 0;\n",
              "    width: 32px;\n",
              "  }\n",
              "\n",
              "  .colab-df-quickchart:hover {\n",
              "    background-color: var(--hover-bg-color);\n",
              "    box-shadow: 0 1px 2px rgba(60, 64, 67, 0.3), 0 1px 3px 1px rgba(60, 64, 67, 0.15);\n",
              "    fill: var(--button-hover-fill-color);\n",
              "  }\n",
              "\n",
              "  .colab-df-quickchart-complete:disabled,\n",
              "  .colab-df-quickchart-complete:disabled:hover {\n",
              "    background-color: var(--disabled-bg-color);\n",
              "    fill: var(--disabled-fill-color);\n",
              "    box-shadow: none;\n",
              "  }\n",
              "\n",
              "  .colab-df-spinner {\n",
              "    border: 2px solid var(--fill-color);\n",
              "    border-color: transparent;\n",
              "    border-bottom-color: var(--fill-color);\n",
              "    animation:\n",
              "      spin 1s steps(1) infinite;\n",
              "  }\n",
              "\n",
              "  @keyframes spin {\n",
              "    0% {\n",
              "      border-color: transparent;\n",
              "      border-bottom-color: var(--fill-color);\n",
              "      border-left-color: var(--fill-color);\n",
              "    }\n",
              "    20% {\n",
              "      border-color: transparent;\n",
              "      border-left-color: var(--fill-color);\n",
              "      border-top-color: var(--fill-color);\n",
              "    }\n",
              "    30% {\n",
              "      border-color: transparent;\n",
              "      border-left-color: var(--fill-color);\n",
              "      border-top-color: var(--fill-color);\n",
              "      border-right-color: var(--fill-color);\n",
              "    }\n",
              "    40% {\n",
              "      border-color: transparent;\n",
              "      border-right-color: var(--fill-color);\n",
              "      border-top-color: var(--fill-color);\n",
              "    }\n",
              "    60% {\n",
              "      border-color: transparent;\n",
              "      border-right-color: var(--fill-color);\n",
              "    }\n",
              "    80% {\n",
              "      border-color: transparent;\n",
              "      border-right-color: var(--fill-color);\n",
              "      border-bottom-color: var(--fill-color);\n",
              "    }\n",
              "    90% {\n",
              "      border-color: transparent;\n",
              "      border-bottom-color: var(--fill-color);\n",
              "    }\n",
              "  }\n",
              "</style>\n",
              "\n",
              "  <script>\n",
              "    async function quickchart(key) {\n",
              "      const quickchartButtonEl =\n",
              "        document.querySelector('#' + key + ' button');\n",
              "      quickchartButtonEl.disabled = true;  // To prevent multiple clicks.\n",
              "      quickchartButtonEl.classList.add('colab-df-spinner');\n",
              "      try {\n",
              "        const charts = await google.colab.kernel.invokeFunction(\n",
              "            'suggestCharts', [key], {});\n",
              "      } catch (error) {\n",
              "        console.error('Error during call to suggestCharts:', error);\n",
              "      }\n",
              "      quickchartButtonEl.classList.remove('colab-df-spinner');\n",
              "      quickchartButtonEl.classList.add('colab-df-quickchart-complete');\n",
              "    }\n",
              "    (() => {\n",
              "      let quickchartButtonEl =\n",
              "        document.querySelector('#df-291d8bec-4b91-4d76-9169-addbd2888ccc button');\n",
              "      quickchartButtonEl.style.display =\n",
              "        google.colab.kernel.accessAllowed ? 'block' : 'none';\n",
              "    })();\n",
              "  </script>\n",
              "</div>\n",
              "    </div>\n",
              "  </div>\n"
            ],
            "application/vnd.google.colaboratory.intrinsic+json": {
              "type": "dataframe",
              "variable_name": "df",
              "repr_error": "'str' object has no attribute 'empty'"
            }
          },
          "metadata": {},
          "execution_count": 3
        }
      ]
    },
    {
      "cell_type": "markdown",
      "source": [
        "##**Describe Data**"
      ],
      "metadata": {
        "id": "u45fFagyM2iX"
      }
    },
    {
      "cell_type": "markdown",
      "source": [
        "####Informasi Data"
      ],
      "metadata": {
        "id": "1ZQ4JsJSM8J6"
      }
    },
    {
      "cell_type": "code",
      "source": [
        "print(\"Baris :\",df.shape[0])\n",
        "print(\"Kolom :\",df.shape[1])"
      ],
      "metadata": {
        "colab": {
          "base_uri": "https://localhost:8080/"
        },
        "id": "_xVuU_vKNCIR",
        "outputId": "1356ad05-6010-4d9f-c5aa-5557f7fad970"
      },
      "execution_count": null,
      "outputs": [
        {
          "output_type": "stream",
          "name": "stdout",
          "text": [
            "Baris : 101\n",
            "Kolom : 11\n"
          ]
        }
      ]
    },
    {
      "cell_type": "markdown",
      "source": [
        "dari dataset menampilkan jumlah baris dan jumlah kolom, yaitu jumlah baris 101 dan jumlah kolom 11."
      ],
      "metadata": {
        "id": "OzD-zGqlRyMK"
      }
    },
    {
      "cell_type": "markdown",
      "source": [
        "####Informasi Lanjutan"
      ],
      "metadata": {
        "id": "0rAXhpBHPdp4"
      }
    },
    {
      "cell_type": "code",
      "source": [
        "df.info()"
      ],
      "metadata": {
        "id": "2zlb3sdOPFE8",
        "colab": {
          "base_uri": "https://localhost:8080/"
        },
        "outputId": "ab2fdea3-3a5b-4a69-da45-3a7efd8efd96"
      },
      "execution_count": null,
      "outputs": [
        {
          "output_type": "stream",
          "name": "stdout",
          "text": [
            "<class 'pandas.core.frame.DataFrame'>\n",
            "RangeIndex: 101 entries, 0 to 100\n",
            "Data columns (total 11 columns):\n",
            " #   Column                                        Non-Null Count  Dtype  \n",
            "---  ------                                        --------------  -----  \n",
            " 0   Timestamp                                     101 non-null    object \n",
            " 1   Choose your gender                            101 non-null    object \n",
            " 2   Age                                           100 non-null    float64\n",
            " 3   What is your course?                          101 non-null    object \n",
            " 4   Your current year of Study                    101 non-null    object \n",
            " 5   What is your CGPA?                            101 non-null    object \n",
            " 6   Marital status                                101 non-null    object \n",
            " 7   Do you have Depression?                       101 non-null    object \n",
            " 8   Do you have Anxiety?                          101 non-null    object \n",
            " 9   Do you have Panic attack?                     101 non-null    object \n",
            " 10  Did you seek any specialist for a treatment?  101 non-null    object \n",
            "dtypes: float64(1), object(10)\n",
            "memory usage: 8.8+ KB\n"
          ]
        }
      ]
    },
    {
      "cell_type": "markdown",
      "source": [
        "diatas menampilkan jumlah kolom dari dataset yang berjumlah 11 dan spesifikasi dari dataset yang ada.\n",
        "\n",
        "1. Timestamp : kolom yang berisi tanggal dan waktu. jumlah non-null adalah 101 dan tipe datanya object.\n",
        "\n",
        "2. Choose your gender : kolom yang berisikan data gender. jumlah non-null adalah 101 dan tipe datanya object.\n",
        "\n",
        "3. Age : kolom yang berisi data umur/usia. jumlah non-null adalah 100 dan tipe datanya float64.\n",
        "\n",
        "4. What is your course : kolom yang berisikan penjurusan yang diambil. jumlah non-null adalah 101 dan tipe datanya object.\n",
        "\n",
        "5. Your current year of Study : kolom yang berisikan data berapa lama dalam penjurusan. jumlah 101 non-null dengan tipedata object\n",
        "\n",
        "6. What is your CGPA? : kolom yang berisikan data rata-rata nilai. jumlah non-null 101, tipedata object\n",
        "\n",
        "7. Marital status : kolom yang berisikan data status kelajangan. jumlah 101 non-null, tipedata object\n",
        "\n",
        "8. Do you have Depression? : kolom yang berisikan data yes/no dari pertanyaan tersebut. jumlah non-null 101, tipedata object\n",
        "\n",
        "9. Do you have Anxiety? : kolom yang berisikan data yes/no dari pertanyaan tersebut. jumlah non-null 101, tipedata object\n",
        "\n",
        "10. Do you have Panic attack? : kolom yang berisikan data yes/no dari pertanyaan tersebut. jumlah non-null 101, tipedata object\n",
        "\n",
        "11. Did you seek any specialist for a treatment? : kolom yang berisikan data yes/no dari pertanyaan tersebut. jumlah non-null 101, tipedata object"
      ],
      "metadata": {
        "id": "XRKtcEfFSt5h"
      }
    },
    {
      "cell_type": "markdown",
      "source": [
        "####Informasi Statistik Deskriptif"
      ],
      "metadata": {
        "id": "GN_-vPGbW7Cd"
      }
    },
    {
      "cell_type": "code",
      "source": [
        "df.describe()"
      ],
      "metadata": {
        "colab": {
          "base_uri": "https://localhost:8080/",
          "height": 300
        },
        "id": "kyXqPK8SXLnn",
        "outputId": "68f7b4b0-4060-40d0-bd0d-859ecc650a19"
      },
      "execution_count": null,
      "outputs": [
        {
          "output_type": "execute_result",
          "data": {
            "text/plain": [
              "             Age\n",
              "count  100.00000\n",
              "mean    20.53000\n",
              "std      2.49628\n",
              "min     18.00000\n",
              "25%     18.00000\n",
              "50%     19.00000\n",
              "75%     23.00000\n",
              "max     24.00000"
            ],
            "text/html": [
              "\n",
              "  <div id=\"df-0a69bd29-1dff-4767-ab57-912b8802b497\" class=\"colab-df-container\">\n",
              "    <div>\n",
              "<style scoped>\n",
              "    .dataframe tbody tr th:only-of-type {\n",
              "        vertical-align: middle;\n",
              "    }\n",
              "\n",
              "    .dataframe tbody tr th {\n",
              "        vertical-align: top;\n",
              "    }\n",
              "\n",
              "    .dataframe thead th {\n",
              "        text-align: right;\n",
              "    }\n",
              "</style>\n",
              "<table border=\"1\" class=\"dataframe\">\n",
              "  <thead>\n",
              "    <tr style=\"text-align: right;\">\n",
              "      <th></th>\n",
              "      <th>Age</th>\n",
              "    </tr>\n",
              "  </thead>\n",
              "  <tbody>\n",
              "    <tr>\n",
              "      <th>count</th>\n",
              "      <td>100.00000</td>\n",
              "    </tr>\n",
              "    <tr>\n",
              "      <th>mean</th>\n",
              "      <td>20.53000</td>\n",
              "    </tr>\n",
              "    <tr>\n",
              "      <th>std</th>\n",
              "      <td>2.49628</td>\n",
              "    </tr>\n",
              "    <tr>\n",
              "      <th>min</th>\n",
              "      <td>18.00000</td>\n",
              "    </tr>\n",
              "    <tr>\n",
              "      <th>25%</th>\n",
              "      <td>18.00000</td>\n",
              "    </tr>\n",
              "    <tr>\n",
              "      <th>50%</th>\n",
              "      <td>19.00000</td>\n",
              "    </tr>\n",
              "    <tr>\n",
              "      <th>75%</th>\n",
              "      <td>23.00000</td>\n",
              "    </tr>\n",
              "    <tr>\n",
              "      <th>max</th>\n",
              "      <td>24.00000</td>\n",
              "    </tr>\n",
              "  </tbody>\n",
              "</table>\n",
              "</div>\n",
              "    <div class=\"colab-df-buttons\">\n",
              "\n",
              "  <div class=\"colab-df-container\">\n",
              "    <button class=\"colab-df-convert\" onclick=\"convertToInteractive('df-0a69bd29-1dff-4767-ab57-912b8802b497')\"\n",
              "            title=\"Convert this dataframe to an interactive table.\"\n",
              "            style=\"display:none;\">\n",
              "\n",
              "  <svg xmlns=\"http://www.w3.org/2000/svg\" height=\"24px\" viewBox=\"0 -960 960 960\">\n",
              "    <path d=\"M120-120v-720h720v720H120Zm60-500h600v-160H180v160Zm220 220h160v-160H400v160Zm0 220h160v-160H400v160ZM180-400h160v-160H180v160Zm440 0h160v-160H620v160ZM180-180h160v-160H180v160Zm440 0h160v-160H620v160Z\"/>\n",
              "  </svg>\n",
              "    </button>\n",
              "\n",
              "  <style>\n",
              "    .colab-df-container {\n",
              "      display:flex;\n",
              "      gap: 12px;\n",
              "    }\n",
              "\n",
              "    .colab-df-convert {\n",
              "      background-color: #E8F0FE;\n",
              "      border: none;\n",
              "      border-radius: 50%;\n",
              "      cursor: pointer;\n",
              "      display: none;\n",
              "      fill: #1967D2;\n",
              "      height: 32px;\n",
              "      padding: 0 0 0 0;\n",
              "      width: 32px;\n",
              "    }\n",
              "\n",
              "    .colab-df-convert:hover {\n",
              "      background-color: #E2EBFA;\n",
              "      box-shadow: 0px 1px 2px rgba(60, 64, 67, 0.3), 0px 1px 3px 1px rgba(60, 64, 67, 0.15);\n",
              "      fill: #174EA6;\n",
              "    }\n",
              "\n",
              "    .colab-df-buttons div {\n",
              "      margin-bottom: 4px;\n",
              "    }\n",
              "\n",
              "    [theme=dark] .colab-df-convert {\n",
              "      background-color: #3B4455;\n",
              "      fill: #D2E3FC;\n",
              "    }\n",
              "\n",
              "    [theme=dark] .colab-df-convert:hover {\n",
              "      background-color: #434B5C;\n",
              "      box-shadow: 0px 1px 3px 1px rgba(0, 0, 0, 0.15);\n",
              "      filter: drop-shadow(0px 1px 2px rgba(0, 0, 0, 0.3));\n",
              "      fill: #FFFFFF;\n",
              "    }\n",
              "  </style>\n",
              "\n",
              "    <script>\n",
              "      const buttonEl =\n",
              "        document.querySelector('#df-0a69bd29-1dff-4767-ab57-912b8802b497 button.colab-df-convert');\n",
              "      buttonEl.style.display =\n",
              "        google.colab.kernel.accessAllowed ? 'block' : 'none';\n",
              "\n",
              "      async function convertToInteractive(key) {\n",
              "        const element = document.querySelector('#df-0a69bd29-1dff-4767-ab57-912b8802b497');\n",
              "        const dataTable =\n",
              "          await google.colab.kernel.invokeFunction('convertToInteractive',\n",
              "                                                    [key], {});\n",
              "        if (!dataTable) return;\n",
              "\n",
              "        const docLinkHtml = 'Like what you see? Visit the ' +\n",
              "          '<a target=\"_blank\" href=https://colab.research.google.com/notebooks/data_table.ipynb>data table notebook</a>'\n",
              "          + ' to learn more about interactive tables.';\n",
              "        element.innerHTML = '';\n",
              "        dataTable['output_type'] = 'display_data';\n",
              "        await google.colab.output.renderOutput(dataTable, element);\n",
              "        const docLink = document.createElement('div');\n",
              "        docLink.innerHTML = docLinkHtml;\n",
              "        element.appendChild(docLink);\n",
              "      }\n",
              "    </script>\n",
              "  </div>\n",
              "\n",
              "\n",
              "<div id=\"df-c89bc7d3-51fa-4f5b-af2e-15e78bb5fd06\">\n",
              "  <button class=\"colab-df-quickchart\" onclick=\"quickchart('df-c89bc7d3-51fa-4f5b-af2e-15e78bb5fd06')\"\n",
              "            title=\"Suggest charts\"\n",
              "            style=\"display:none;\">\n",
              "\n",
              "<svg xmlns=\"http://www.w3.org/2000/svg\" height=\"24px\"viewBox=\"0 0 24 24\"\n",
              "     width=\"24px\">\n",
              "    <g>\n",
              "        <path d=\"M19 3H5c-1.1 0-2 .9-2 2v14c0 1.1.9 2 2 2h14c1.1 0 2-.9 2-2V5c0-1.1-.9-2-2-2zM9 17H7v-7h2v7zm4 0h-2V7h2v10zm4 0h-2v-4h2v4z\"/>\n",
              "    </g>\n",
              "</svg>\n",
              "  </button>\n",
              "\n",
              "<style>\n",
              "  .colab-df-quickchart {\n",
              "      --bg-color: #E8F0FE;\n",
              "      --fill-color: #1967D2;\n",
              "      --hover-bg-color: #E2EBFA;\n",
              "      --hover-fill-color: #174EA6;\n",
              "      --disabled-fill-color: #AAA;\n",
              "      --disabled-bg-color: #DDD;\n",
              "  }\n",
              "\n",
              "  [theme=dark] .colab-df-quickchart {\n",
              "      --bg-color: #3B4455;\n",
              "      --fill-color: #D2E3FC;\n",
              "      --hover-bg-color: #434B5C;\n",
              "      --hover-fill-color: #FFFFFF;\n",
              "      --disabled-bg-color: #3B4455;\n",
              "      --disabled-fill-color: #666;\n",
              "  }\n",
              "\n",
              "  .colab-df-quickchart {\n",
              "    background-color: var(--bg-color);\n",
              "    border: none;\n",
              "    border-radius: 50%;\n",
              "    cursor: pointer;\n",
              "    display: none;\n",
              "    fill: var(--fill-color);\n",
              "    height: 32px;\n",
              "    padding: 0;\n",
              "    width: 32px;\n",
              "  }\n",
              "\n",
              "  .colab-df-quickchart:hover {\n",
              "    background-color: var(--hover-bg-color);\n",
              "    box-shadow: 0 1px 2px rgba(60, 64, 67, 0.3), 0 1px 3px 1px rgba(60, 64, 67, 0.15);\n",
              "    fill: var(--button-hover-fill-color);\n",
              "  }\n",
              "\n",
              "  .colab-df-quickchart-complete:disabled,\n",
              "  .colab-df-quickchart-complete:disabled:hover {\n",
              "    background-color: var(--disabled-bg-color);\n",
              "    fill: var(--disabled-fill-color);\n",
              "    box-shadow: none;\n",
              "  }\n",
              "\n",
              "  .colab-df-spinner {\n",
              "    border: 2px solid var(--fill-color);\n",
              "    border-color: transparent;\n",
              "    border-bottom-color: var(--fill-color);\n",
              "    animation:\n",
              "      spin 1s steps(1) infinite;\n",
              "  }\n",
              "\n",
              "  @keyframes spin {\n",
              "    0% {\n",
              "      border-color: transparent;\n",
              "      border-bottom-color: var(--fill-color);\n",
              "      border-left-color: var(--fill-color);\n",
              "    }\n",
              "    20% {\n",
              "      border-color: transparent;\n",
              "      border-left-color: var(--fill-color);\n",
              "      border-top-color: var(--fill-color);\n",
              "    }\n",
              "    30% {\n",
              "      border-color: transparent;\n",
              "      border-left-color: var(--fill-color);\n",
              "      border-top-color: var(--fill-color);\n",
              "      border-right-color: var(--fill-color);\n",
              "    }\n",
              "    40% {\n",
              "      border-color: transparent;\n",
              "      border-right-color: var(--fill-color);\n",
              "      border-top-color: var(--fill-color);\n",
              "    }\n",
              "    60% {\n",
              "      border-color: transparent;\n",
              "      border-right-color: var(--fill-color);\n",
              "    }\n",
              "    80% {\n",
              "      border-color: transparent;\n",
              "      border-right-color: var(--fill-color);\n",
              "      border-bottom-color: var(--fill-color);\n",
              "    }\n",
              "    90% {\n",
              "      border-color: transparent;\n",
              "      border-bottom-color: var(--fill-color);\n",
              "    }\n",
              "  }\n",
              "</style>\n",
              "\n",
              "  <script>\n",
              "    async function quickchart(key) {\n",
              "      const quickchartButtonEl =\n",
              "        document.querySelector('#' + key + ' button');\n",
              "      quickchartButtonEl.disabled = true;  // To prevent multiple clicks.\n",
              "      quickchartButtonEl.classList.add('colab-df-spinner');\n",
              "      try {\n",
              "        const charts = await google.colab.kernel.invokeFunction(\n",
              "            'suggestCharts', [key], {});\n",
              "      } catch (error) {\n",
              "        console.error('Error during call to suggestCharts:', error);\n",
              "      }\n",
              "      quickchartButtonEl.classList.remove('colab-df-spinner');\n",
              "      quickchartButtonEl.classList.add('colab-df-quickchart-complete');\n",
              "    }\n",
              "    (() => {\n",
              "      let quickchartButtonEl =\n",
              "        document.querySelector('#df-c89bc7d3-51fa-4f5b-af2e-15e78bb5fd06 button');\n",
              "      quickchartButtonEl.style.display =\n",
              "        google.colab.kernel.accessAllowed ? 'block' : 'none';\n",
              "    })();\n",
              "  </script>\n",
              "</div>\n",
              "    </div>\n",
              "  </div>\n"
            ],
            "application/vnd.google.colaboratory.intrinsic+json": {
              "type": "dataframe",
              "summary": "{\n  \"name\": \"df\",\n  \"rows\": 8,\n  \"fields\": [\n    {\n      \"column\": \"Age\",\n      \"properties\": {\n        \"dtype\": \"number\",\n        \"std\": 29.790000657932246,\n        \"min\": 2.496280060693139,\n        \"max\": 100.0,\n        \"num_unique_values\": 7,\n        \"samples\": [\n          100.0,\n          20.53,\n          23.0\n        ],\n        \"semantic_type\": \"\",\n        \"description\": \"\"\n      }\n    }\n  ]\n}"
            }
          },
          "metadata": {},
          "execution_count": 6
        }
      ]
    },
    {
      "cell_type": "markdown",
      "source": [
        "nilai rata-rata dari usia adalah 20.53000 dengan standar deviasi sekitar 2.49628. Nilai minimum adalah 18.00000 dan maximum 24.00000"
      ],
      "metadata": {
        "id": "VuiiUVZsXflB"
      }
    },
    {
      "cell_type": "markdown",
      "source": [
        "##**Exploratory Data Analysis**"
      ],
      "metadata": {
        "id": "Mi-04HzNYGnA"
      }
    },
    {
      "cell_type": "code",
      "source": [
        "df = pd.read_csv('StudentMentalhealth.csv')\n",
        "\n",
        "#Define the list of columns to visualize\n",
        "columns = ['Timestamp', 'Choose your gender', 'Age', 'Marital status', 'Do you have Depression?', 'Do you have Anxiety?', 'Do you have Panic attack?', 'Did you seek any specialist for a treatment?']\n",
        "\n",
        "#Create the plot\n",
        "plt.figure(figsize=(10, 8))\n",
        "\n",
        "for i, Quality in enumerate(columns):\n",
        "  plt.subplot(3, 3, i + 1)\n",
        "  sns.histplot(data=df, x=Quality, kde=True, bins=15, color='blue')\n",
        "\n",
        "plt.show()"
      ],
      "metadata": {
        "colab": {
          "base_uri": "https://localhost:8080/",
          "height": 716
        },
        "id": "z7JkMCM3YM1p",
        "outputId": "c7a53285-2ab4-4360-acfa-655d985a3e52"
      },
      "execution_count": null,
      "outputs": [
        {
          "output_type": "display_data",
          "data": {
            "text/plain": [
              "<Figure size 1000x800 with 8 Axes>"
            ],
            "image/png": "[encoded data removed]"
          },
          "metadata": {}
        }
      ]
    },
    {
      "cell_type": "markdown",
      "source": [
        "dari visualisasi diatas dapat membantu dalam memahami karakteristik responden dan memberikan wawasan atau informasi persentase tingkat kondisi kesehatan mental yang dialami dalam rentang usia, gender, status, dan berapa yang mencari bantuan dari spesialis untuk pengobatan.\n",
        "\n",
        "ini dapat memberikan informasi tentang tingkat kesadaran dan aksesibilitas layanan kesehatan mental di antara mereka."
      ],
      "metadata": {
        "id": "jdO3EMiMcSdw"
      }
    },
    {
      "cell_type": "markdown",
      "source": [
        "##**Verify Data Quality**"
      ],
      "metadata": {
        "id": "4m7GyCNkeAJc"
      }
    },
    {
      "cell_type": "markdown",
      "source": [
        "####Missing Values"
      ],
      "metadata": {
        "id": "a2pLONYceHtz"
      }
    },
    {
      "cell_type": "code",
      "source": [
        "data = pd.read_csv('StudentMentalhealth.csv')\n",
        "\n",
        "#mengecek apakah ada nilai kosong pada tiap kolom\n",
        "missing_values = data.isnull().sum()\n",
        "\n",
        "#menampilkan jumlah nilai kosong pada tiap kolom\n",
        "print(missing_values)"
      ],
      "metadata": {
        "colab": {
          "base_uri": "https://localhost:8080/"
        },
        "id": "D2UDYo-teK6E",
        "outputId": "1d601e96-e547-48b4-8037-76109f1b42da"
      },
      "execution_count": null,
      "outputs": [
        {
          "output_type": "stream",
          "name": "stdout",
          "text": [
            "Timestamp                                       0\n",
            "Choose your gender                              0\n",
            "Age                                             1\n",
            "What is your course?                            0\n",
            "Your current year of Study                      0\n",
            "What is your CGPA?                              0\n",
            "Marital status                                  0\n",
            "Do you have Depression?                         0\n",
            "Do you have Anxiety?                            0\n",
            "Do you have Panic attack?                       0\n",
            "Did you seek any specialist for a treatment?    0\n",
            "dtype: int64\n"
          ]
        }
      ]
    },
    {
      "cell_type": "markdown",
      "source": [
        "tampilan diatas menyatakan bahwa ada 1 nilai kosong yang terdapat pada kolom 'Age'. nilai nol pada kolom lainnya menyatakan tidak ada nilai kosong pada kolom tersebut."
      ],
      "metadata": {
        "id": "P90lDsX3ewAb"
      }
    },
    {
      "cell_type": "markdown",
      "source": [
        "####Outliners Values"
      ],
      "metadata": {
        "id": "trpH-Xh4fHGK"
      }
    },
    {
      "cell_type": "code",
      "source": [
        "#mendefinisikan fungsi untuk mendeteksi outliners dan menghitung persentase\n",
        "def detect_outliers(column):\n",
        "  #convert the column to a numeric data type\n",
        "  column = pd.to_numeric(column, errors='coerce')\n",
        "\n",
        "  #remove NaN values\n",
        "  column = column.dropna()\n",
        "\n",
        "  Q1 = column.quantile(0.25)\n",
        "  Q3 = column.quantile(0.75)\n",
        "  IQR = Q3 - Q1\n",
        "\n",
        "  #detect outliers\n",
        "  outliers = (column < (Q1 - 1.5 * IQR)) | (column > (Q3 + 1.5 * IQR))\n",
        "\n",
        "  #calculate the percentage of outliers\n",
        "  percentage_outliers = outliers.sum() / len(column) * 100\n",
        "\n",
        "  return outliers, percentage_outliers\n",
        "\n",
        "#loop untuk setiap kolom\n",
        "for column in df.columns:\n",
        "  outliers, percentage_outliers = detect_outliers(df[column])\n",
        "\n",
        "  print(f\"Kolom '{column}':\")\n",
        "  print(f\" - Jumlah outliers: {outliers.sum()}\")\n",
        "  print(f\" - Persentase kehadiran outliers: {percentage_outliers:.2f}%\")\n",
        "  print()"
      ],
      "metadata": {
        "colab": {
          "base_uri": "https://localhost:8080/"
        },
        "id": "xOTCqDhofLHt",
        "outputId": "78c2ef6f-c06e-4a9d-bfcb-825b69704728"
      },
      "execution_count": null,
      "outputs": [
        {
          "output_type": "stream",
          "name": "stdout",
          "text": [
            "Kolom 'Timestamp':\n",
            " - Jumlah outliers: 0\n",
            " - Persentase kehadiran outliers: nan%\n",
            "\n",
            "Kolom 'Choose your gender':\n",
            " - Jumlah outliers: 0\n",
            " - Persentase kehadiran outliers: nan%\n",
            "\n",
            "Kolom 'Age':\n",
            " - Jumlah outliers: 0\n",
            " - Persentase kehadiran outliers: 0.00%\n",
            "\n",
            "Kolom 'What is your course?':\n",
            " - Jumlah outliers: 0\n",
            " - Persentase kehadiran outliers: nan%\n",
            "\n",
            "Kolom 'Your current year of Study':\n",
            " - Jumlah outliers: 0\n",
            " - Persentase kehadiran outliers: nan%\n",
            "\n",
            "Kolom 'What is your CGPA?':\n",
            " - Jumlah outliers: 0\n",
            " - Persentase kehadiran outliers: nan%\n",
            "\n",
            "Kolom 'Marital status':\n",
            " - Jumlah outliers: 0\n",
            " - Persentase kehadiran outliers: nan%\n",
            "\n",
            "Kolom 'Do you have Depression?':\n",
            " - Jumlah outliers: 0\n",
            " - Persentase kehadiran outliers: nan%\n",
            "\n",
            "Kolom 'Do you have Anxiety?':\n",
            " - Jumlah outliers: 0\n",
            " - Persentase kehadiran outliers: nan%\n",
            "\n",
            "Kolom 'Do you have Panic attack?':\n",
            " - Jumlah outliers: 0\n",
            " - Persentase kehadiran outliers: nan%\n",
            "\n",
            "Kolom 'Did you seek any specialist for a treatment?':\n",
            " - Jumlah outliers: 0\n",
            " - Persentase kehadiran outliers: nan%\n",
            "\n"
          ]
        },
        {
          "output_type": "stream",
          "name": "stderr",
          "text": [
            "<ipython-input-12-9eb84678e9e2>:17: RuntimeWarning: invalid value encountered in scalar divide\n",
            "  percentage_outliers = outliers.sum() / len(column) * 100\n",
            "<ipython-input-12-9eb84678e9e2>:17: RuntimeWarning: invalid value encountered in scalar divide\n",
            "  percentage_outliers = outliers.sum() / len(column) * 100\n",
            "<ipython-input-12-9eb84678e9e2>:17: RuntimeWarning: invalid value encountered in scalar divide\n",
            "  percentage_outliers = outliers.sum() / len(column) * 100\n",
            "<ipython-input-12-9eb84678e9e2>:17: RuntimeWarning: invalid value encountered in scalar divide\n",
            "  percentage_outliers = outliers.sum() / len(column) * 100\n",
            "<ipython-input-12-9eb84678e9e2>:17: RuntimeWarning: invalid value encountered in scalar divide\n",
            "  percentage_outliers = outliers.sum() / len(column) * 100\n",
            "<ipython-input-12-9eb84678e9e2>:17: RuntimeWarning: invalid value encountered in scalar divide\n",
            "  percentage_outliers = outliers.sum() / len(column) * 100\n",
            "<ipython-input-12-9eb84678e9e2>:17: RuntimeWarning: invalid value encountered in scalar divide\n",
            "  percentage_outliers = outliers.sum() / len(column) * 100\n",
            "<ipython-input-12-9eb84678e9e2>:17: RuntimeWarning: invalid value encountered in scalar divide\n",
            "  percentage_outliers = outliers.sum() / len(column) * 100\n",
            "<ipython-input-12-9eb84678e9e2>:17: RuntimeWarning: invalid value encountered in scalar divide\n",
            "  percentage_outliers = outliers.sum() / len(column) * 100\n",
            "<ipython-input-12-9eb84678e9e2>:17: RuntimeWarning: invalid value encountered in scalar divide\n",
            "  percentage_outliers = outliers.sum() / len(column) * 100\n"
          ]
        }
      ]
    },
    {
      "cell_type": "markdown",
      "source": [
        "dari hasil diatas dapat dilihat, bahwa menyatakan tidak ada nilai duplikat pada data"
      ],
      "metadata": {
        "id": "hIRWPKXBi1Lm"
      }
    },
    {
      "cell_type": "markdown",
      "source": [
        "####Duplicated Values"
      ],
      "metadata": {
        "id": "zr-jEMoWiFp-"
      }
    },
    {
      "cell_type": "code",
      "source": [
        "duplicates_by_values = df.duplicated().sum()\n",
        "print(duplicates_by_values)"
      ],
      "metadata": {
        "colab": {
          "base_uri": "https://localhost:8080/"
        },
        "id": "4ABFTz-LiYs6",
        "outputId": "5b8c3d00-76c7-4f25-dc08-4b6a92558fce"
      },
      "execution_count": null,
      "outputs": [
        {
          "output_type": "stream",
          "name": "stdout",
          "text": [
            "0\n"
          ]
        }
      ]
    },
    {
      "cell_type": "markdown",
      "source": [
        "hasil duplikat menyatakan nol (0)"
      ],
      "metadata": {
        "id": "wMI8YJF1im8g"
      }
    }
  ]
}